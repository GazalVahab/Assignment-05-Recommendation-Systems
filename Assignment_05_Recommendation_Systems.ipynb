{
  "nbformat": 4,
  "nbformat_minor": 0,
  "metadata": {
    "colab": {
      "provenance": []
    },
    "kernelspec": {
      "name": "python3",
      "display_name": "Python 3"
    },
    "language_info": {
      "name": "python"
    }
  },
  "cells": [
    {
      "cell_type": "code",
      "execution_count": 1,
      "metadata": {
        "colab": {
          "base_uri": "https://localhost:8080/"
        },
        "id": "vwfR-n0PwTfG",
        "outputId": "8d070bb9-04d9-435a-a9d5-d241f1a91037"
      },
      "outputs": [
        {
          "output_type": "stream",
          "name": "stdout",
          "text": [
            "Collecting scikit-surprise\n",
            "  Downloading scikit-surprise-1.1.3.tar.gz (771 kB)\n",
            "\u001b[2K     \u001b[90m━━━━━━━━━━━━━━━━━━━━━━━━━━━━━━━━━━━━━━━━\u001b[0m \u001b[32m772.0/772.0 kB\u001b[0m \u001b[31m5.3 MB/s\u001b[0m eta \u001b[36m0:00:00\u001b[0m\n",
            "\u001b[?25h  Preparing metadata (setup.py) ... \u001b[?25l\u001b[?25hdone\n",
            "Requirement already satisfied: joblib>=1.0.0 in /usr/local/lib/python3.10/dist-packages (from scikit-surprise) (1.3.2)\n",
            "Requirement already satisfied: numpy>=1.17.3 in /usr/local/lib/python3.10/dist-packages (from scikit-surprise) (1.25.2)\n",
            "Requirement already satisfied: scipy>=1.3.2 in /usr/local/lib/python3.10/dist-packages (from scikit-surprise) (1.11.4)\n",
            "Building wheels for collected packages: scikit-surprise\n",
            "  Building wheel for scikit-surprise (setup.py) ... \u001b[?25l\u001b[?25hdone\n",
            "  Created wheel for scikit-surprise: filename=scikit_surprise-1.1.3-cp310-cp310-linux_x86_64.whl size=3162717 sha256=2c7002d0edc92c5fde10c16a636dfe2faeff7143ebec4d80709b69f2da497ba5\n",
            "  Stored in directory: /root/.cache/pip/wheels/a5/ca/a8/4e28def53797fdc4363ca4af740db15a9c2f1595ebc51fb445\n",
            "Successfully built scikit-surprise\n",
            "Installing collected packages: scikit-surprise\n",
            "Successfully installed scikit-surprise-1.1.3\n"
          ]
        }
      ],
      "source": [
        "pip install scikit-surprise"
      ]
    },
    {
      "cell_type": "code",
      "source": [
        "import pandas as pd\n",
        "from surprise import Dataset, Reader"
      ],
      "metadata": {
        "id": "5CPFMkrCwdfz"
      },
      "execution_count": 10,
      "outputs": []
    },
    {
      "cell_type": "markdown",
      "source": [
        "Load the Jokes Dataset"
      ],
      "metadata": {
        "id": "oqyUsL0NxOzr"
      }
    },
    {
      "cell_type": "code",
      "source": [
        "data = pd.read_csv('/content/jokes-data.csv')"
      ],
      "metadata": {
        "id": "9LvX7fTGyTVe"
      },
      "execution_count": 11,
      "outputs": []
    },
    {
      "cell_type": "code",
      "source": [
        "data.head()"
      ],
      "metadata": {
        "colab": {
          "base_uri": "https://localhost:8080/",
          "height": 206
        },
        "id": "OjTqXYN_vM1w",
        "outputId": "ea515e89-4f17-4ded-9af2-263848b9e2d1"
      },
      "execution_count": 12,
      "outputs": [
        {
          "output_type": "execute_result",
          "data": {
            "text/plain": [
              "          id  user_id  joke_id  Rating\n",
              "0  31030_110    31030      110   2.750\n",
              "1  16144_109    16144      109   5.094\n",
              "2    23098_6    23098        6  -6.438\n",
              "3   14273_86    14273       86   4.406\n",
              "4  18419_134    18419      134   9.375"
            ],
            "text/html": [
              "\n",
              "  <div id=\"df-e08fbdb3-5bae-4fd4-b2b5-150d679dbca6\" class=\"colab-df-container\">\n",
              "    <div>\n",
              "<style scoped>\n",
              "    .dataframe tbody tr th:only-of-type {\n",
              "        vertical-align: middle;\n",
              "    }\n",
              "\n",
              "    .dataframe tbody tr th {\n",
              "        vertical-align: top;\n",
              "    }\n",
              "\n",
              "    .dataframe thead th {\n",
              "        text-align: right;\n",
              "    }\n",
              "</style>\n",
              "<table border=\"1\" class=\"dataframe\">\n",
              "  <thead>\n",
              "    <tr style=\"text-align: right;\">\n",
              "      <th></th>\n",
              "      <th>id</th>\n",
              "      <th>user_id</th>\n",
              "      <th>joke_id</th>\n",
              "      <th>Rating</th>\n",
              "    </tr>\n",
              "  </thead>\n",
              "  <tbody>\n",
              "    <tr>\n",
              "      <th>0</th>\n",
              "      <td>31030_110</td>\n",
              "      <td>31030</td>\n",
              "      <td>110</td>\n",
              "      <td>2.750</td>\n",
              "    </tr>\n",
              "    <tr>\n",
              "      <th>1</th>\n",
              "      <td>16144_109</td>\n",
              "      <td>16144</td>\n",
              "      <td>109</td>\n",
              "      <td>5.094</td>\n",
              "    </tr>\n",
              "    <tr>\n",
              "      <th>2</th>\n",
              "      <td>23098_6</td>\n",
              "      <td>23098</td>\n",
              "      <td>6</td>\n",
              "      <td>-6.438</td>\n",
              "    </tr>\n",
              "    <tr>\n",
              "      <th>3</th>\n",
              "      <td>14273_86</td>\n",
              "      <td>14273</td>\n",
              "      <td>86</td>\n",
              "      <td>4.406</td>\n",
              "    </tr>\n",
              "    <tr>\n",
              "      <th>4</th>\n",
              "      <td>18419_134</td>\n",
              "      <td>18419</td>\n",
              "      <td>134</td>\n",
              "      <td>9.375</td>\n",
              "    </tr>\n",
              "  </tbody>\n",
              "</table>\n",
              "</div>\n",
              "    <div class=\"colab-df-buttons\">\n",
              "\n",
              "  <div class=\"colab-df-container\">\n",
              "    <button class=\"colab-df-convert\" onclick=\"convertToInteractive('df-e08fbdb3-5bae-4fd4-b2b5-150d679dbca6')\"\n",
              "            title=\"Convert this dataframe to an interactive table.\"\n",
              "            style=\"display:none;\">\n",
              "\n",
              "  <svg xmlns=\"http://www.w3.org/2000/svg\" height=\"24px\" viewBox=\"0 -960 960 960\">\n",
              "    <path d=\"M120-120v-720h720v720H120Zm60-500h600v-160H180v160Zm220 220h160v-160H400v160Zm0 220h160v-160H400v160ZM180-400h160v-160H180v160Zm440 0h160v-160H620v160ZM180-180h160v-160H180v160Zm440 0h160v-160H620v160Z\"/>\n",
              "  </svg>\n",
              "    </button>\n",
              "\n",
              "  <style>\n",
              "    .colab-df-container {\n",
              "      display:flex;\n",
              "      gap: 12px;\n",
              "    }\n",
              "\n",
              "    .colab-df-convert {\n",
              "      background-color: #E8F0FE;\n",
              "      border: none;\n",
              "      border-radius: 50%;\n",
              "      cursor: pointer;\n",
              "      display: none;\n",
              "      fill: #1967D2;\n",
              "      height: 32px;\n",
              "      padding: 0 0 0 0;\n",
              "      width: 32px;\n",
              "    }\n",
              "\n",
              "    .colab-df-convert:hover {\n",
              "      background-color: #E2EBFA;\n",
              "      box-shadow: 0px 1px 2px rgba(60, 64, 67, 0.3), 0px 1px 3px 1px rgba(60, 64, 67, 0.15);\n",
              "      fill: #174EA6;\n",
              "    }\n",
              "\n",
              "    .colab-df-buttons div {\n",
              "      margin-bottom: 4px;\n",
              "    }\n",
              "\n",
              "    [theme=dark] .colab-df-convert {\n",
              "      background-color: #3B4455;\n",
              "      fill: #D2E3FC;\n",
              "    }\n",
              "\n",
              "    [theme=dark] .colab-df-convert:hover {\n",
              "      background-color: #434B5C;\n",
              "      box-shadow: 0px 1px 3px 1px rgba(0, 0, 0, 0.15);\n",
              "      filter: drop-shadow(0px 1px 2px rgba(0, 0, 0, 0.3));\n",
              "      fill: #FFFFFF;\n",
              "    }\n",
              "  </style>\n",
              "\n",
              "    <script>\n",
              "      const buttonEl =\n",
              "        document.querySelector('#df-e08fbdb3-5bae-4fd4-b2b5-150d679dbca6 button.colab-df-convert');\n",
              "      buttonEl.style.display =\n",
              "        google.colab.kernel.accessAllowed ? 'block' : 'none';\n",
              "\n",
              "      async function convertToInteractive(key) {\n",
              "        const element = document.querySelector('#df-e08fbdb3-5bae-4fd4-b2b5-150d679dbca6');\n",
              "        const dataTable =\n",
              "          await google.colab.kernel.invokeFunction('convertToInteractive',\n",
              "                                                    [key], {});\n",
              "        if (!dataTable) return;\n",
              "\n",
              "        const docLinkHtml = 'Like what you see? Visit the ' +\n",
              "          '<a target=\"_blank\" href=https://colab.research.google.com/notebooks/data_table.ipynb>data table notebook</a>'\n",
              "          + ' to learn more about interactive tables.';\n",
              "        element.innerHTML = '';\n",
              "        dataTable['output_type'] = 'display_data';\n",
              "        await google.colab.output.renderOutput(dataTable, element);\n",
              "        const docLink = document.createElement('div');\n",
              "        docLink.innerHTML = docLinkHtml;\n",
              "        element.appendChild(docLink);\n",
              "      }\n",
              "    </script>\n",
              "  </div>\n",
              "\n",
              "\n",
              "<div id=\"df-13faf5be-4078-48d8-9fa1-3c6d5aabb20a\">\n",
              "  <button class=\"colab-df-quickchart\" onclick=\"quickchart('df-13faf5be-4078-48d8-9fa1-3c6d5aabb20a')\"\n",
              "            title=\"Suggest charts\"\n",
              "            style=\"display:none;\">\n",
              "\n",
              "<svg xmlns=\"http://www.w3.org/2000/svg\" height=\"24px\"viewBox=\"0 0 24 24\"\n",
              "     width=\"24px\">\n",
              "    <g>\n",
              "        <path d=\"M19 3H5c-1.1 0-2 .9-2 2v14c0 1.1.9 2 2 2h14c1.1 0 2-.9 2-2V5c0-1.1-.9-2-2-2zM9 17H7v-7h2v7zm4 0h-2V7h2v10zm4 0h-2v-4h2v4z\"/>\n",
              "    </g>\n",
              "</svg>\n",
              "  </button>\n",
              "\n",
              "<style>\n",
              "  .colab-df-quickchart {\n",
              "      --bg-color: #E8F0FE;\n",
              "      --fill-color: #1967D2;\n",
              "      --hover-bg-color: #E2EBFA;\n",
              "      --hover-fill-color: #174EA6;\n",
              "      --disabled-fill-color: #AAA;\n",
              "      --disabled-bg-color: #DDD;\n",
              "  }\n",
              "\n",
              "  [theme=dark] .colab-df-quickchart {\n",
              "      --bg-color: #3B4455;\n",
              "      --fill-color: #D2E3FC;\n",
              "      --hover-bg-color: #434B5C;\n",
              "      --hover-fill-color: #FFFFFF;\n",
              "      --disabled-bg-color: #3B4455;\n",
              "      --disabled-fill-color: #666;\n",
              "  }\n",
              "\n",
              "  .colab-df-quickchart {\n",
              "    background-color: var(--bg-color);\n",
              "    border: none;\n",
              "    border-radius: 50%;\n",
              "    cursor: pointer;\n",
              "    display: none;\n",
              "    fill: var(--fill-color);\n",
              "    height: 32px;\n",
              "    padding: 0;\n",
              "    width: 32px;\n",
              "  }\n",
              "\n",
              "  .colab-df-quickchart:hover {\n",
              "    background-color: var(--hover-bg-color);\n",
              "    box-shadow: 0 1px 2px rgba(60, 64, 67, 0.3), 0 1px 3px 1px rgba(60, 64, 67, 0.15);\n",
              "    fill: var(--button-hover-fill-color);\n",
              "  }\n",
              "\n",
              "  .colab-df-quickchart-complete:disabled,\n",
              "  .colab-df-quickchart-complete:disabled:hover {\n",
              "    background-color: var(--disabled-bg-color);\n",
              "    fill: var(--disabled-fill-color);\n",
              "    box-shadow: none;\n",
              "  }\n",
              "\n",
              "  .colab-df-spinner {\n",
              "    border: 2px solid var(--fill-color);\n",
              "    border-color: transparent;\n",
              "    border-bottom-color: var(--fill-color);\n",
              "    animation:\n",
              "      spin 1s steps(1) infinite;\n",
              "  }\n",
              "\n",
              "  @keyframes spin {\n",
              "    0% {\n",
              "      border-color: transparent;\n",
              "      border-bottom-color: var(--fill-color);\n",
              "      border-left-color: var(--fill-color);\n",
              "    }\n",
              "    20% {\n",
              "      border-color: transparent;\n",
              "      border-left-color: var(--fill-color);\n",
              "      border-top-color: var(--fill-color);\n",
              "    }\n",
              "    30% {\n",
              "      border-color: transparent;\n",
              "      border-left-color: var(--fill-color);\n",
              "      border-top-color: var(--fill-color);\n",
              "      border-right-color: var(--fill-color);\n",
              "    }\n",
              "    40% {\n",
              "      border-color: transparent;\n",
              "      border-right-color: var(--fill-color);\n",
              "      border-top-color: var(--fill-color);\n",
              "    }\n",
              "    60% {\n",
              "      border-color: transparent;\n",
              "      border-right-color: var(--fill-color);\n",
              "    }\n",
              "    80% {\n",
              "      border-color: transparent;\n",
              "      border-right-color: var(--fill-color);\n",
              "      border-bottom-color: var(--fill-color);\n",
              "    }\n",
              "    90% {\n",
              "      border-color: transparent;\n",
              "      border-bottom-color: var(--fill-color);\n",
              "    }\n",
              "  }\n",
              "</style>\n",
              "\n",
              "  <script>\n",
              "    async function quickchart(key) {\n",
              "      const quickchartButtonEl =\n",
              "        document.querySelector('#' + key + ' button');\n",
              "      quickchartButtonEl.disabled = true;  // To prevent multiple clicks.\n",
              "      quickchartButtonEl.classList.add('colab-df-spinner');\n",
              "      try {\n",
              "        const charts = await google.colab.kernel.invokeFunction(\n",
              "            'suggestCharts', [key], {});\n",
              "      } catch (error) {\n",
              "        console.error('Error during call to suggestCharts:', error);\n",
              "      }\n",
              "      quickchartButtonEl.classList.remove('colab-df-spinner');\n",
              "      quickchartButtonEl.classList.add('colab-df-quickchart-complete');\n",
              "    }\n",
              "    (() => {\n",
              "      let quickchartButtonEl =\n",
              "        document.querySelector('#df-13faf5be-4078-48d8-9fa1-3c6d5aabb20a button');\n",
              "      quickchartButtonEl.style.display =\n",
              "        google.colab.kernel.accessAllowed ? 'block' : 'none';\n",
              "    })();\n",
              "  </script>\n",
              "</div>\n",
              "\n",
              "    </div>\n",
              "  </div>\n"
            ],
            "application/vnd.google.colaboratory.intrinsic+json": {
              "type": "dataframe",
              "variable_name": "data"
            }
          },
          "metadata": {},
          "execution_count": 12
        }
      ]
    },
    {
      "cell_type": "code",
      "source": [
        "data.info()"
      ],
      "metadata": {
        "colab": {
          "base_uri": "https://localhost:8080/"
        },
        "id": "GkP1HrrtvnL5",
        "outputId": "dc3b1ca1-9bff-4812-d46b-eddab6ed8ae7"
      },
      "execution_count": 13,
      "outputs": [
        {
          "output_type": "stream",
          "name": "stdout",
          "text": [
            "<class 'pandas.core.frame.DataFrame'>\n",
            "RangeIndex: 1092059 entries, 0 to 1092058\n",
            "Data columns (total 4 columns):\n",
            " #   Column   Non-Null Count    Dtype  \n",
            "---  ------   --------------    -----  \n",
            " 0   id       1092059 non-null  object \n",
            " 1   user_id  1092059 non-null  int64  \n",
            " 2   joke_id  1092059 non-null  int64  \n",
            " 3   Rating   1092059 non-null  float64\n",
            "dtypes: float64(1), int64(2), object(1)\n",
            "memory usage: 33.3+ MB\n"
          ]
        }
      ]
    },
    {
      "cell_type": "code",
      "source": [
        "data.shape"
      ],
      "metadata": {
        "colab": {
          "base_uri": "https://localhost:8080/"
        },
        "id": "ObQPWvTX7R9b",
        "outputId": "8cfdc8a6-18b7-4e4a-eff3-d3b03323da2e"
      },
      "execution_count": 14,
      "outputs": [
        {
          "output_type": "execute_result",
          "data": {
            "text/plain": [
              "(1092059, 4)"
            ]
          },
          "metadata": {},
          "execution_count": 14
        }
      ]
    },
    {
      "cell_type": "code",
      "source": [
        "data['Rating'].unique()"
      ],
      "metadata": {
        "colab": {
          "base_uri": "https://localhost:8080/"
        },
        "id": "16dtXCk2vQcQ",
        "outputId": "87f4b5f9-9d0a-43cf-aea7-890b8b77be60"
      },
      "execution_count": 15,
      "outputs": [
        {
          "output_type": "execute_result",
          "data": {
            "text/plain": [
              "array([  2.75 ,   5.094,  -6.438,   4.406,   9.375,  -1.781,   6.25 ,\n",
              "        -2.906,  -5.75 ,   1.656,   0.688,   1.312,   6.031,   9.781,\n",
              "         8.75 ,   0.156,   3.562,   2.938,   3.75 ,  -1.906,   3.469,\n",
              "         7.   ,   4.656,   1.719,   6.219,  -8.25 ,   5.188,  -2.281,\n",
              "         1.406,   2.906,   3.625,   6.719,   5.656,   8.562,   2.156,\n",
              "        -5.344,   3.25 ,   1.   ,   7.375,   8.031,   6.125,   7.469,\n",
              "         2.125,   4.062,  -8.   ,  -2.75 ,   9.406,   8.875,   4.5  ,\n",
              "        -3.188,  -6.875,   2.719,   0.562,   2.969,   8.375,  -4.906,\n",
              "         8.594,  -7.469,   0.25 ,   6.406,   5.125,   3.156,   0.312,\n",
              "         0.969,  -3.969,   5.438,  -0.031,  -1.969,   4.688,   2.781,\n",
              "         0.875,  -9.625,  -2.188,  -3.062,   8.781,   6.938,  -7.406,\n",
              "         9.281,  -0.5  ,   1.25 ,   5.031,   3.375,   4.375,   6.875,\n",
              "         6.688,   8.531,   5.594,   7.75 ,   8.281,  -0.531,   9.5  ,\n",
              "         6.812,  -4.125,   1.875,   3.688,   4.438,  -5.5  ,  -1.406,\n",
              "         4.031,  -0.344,  -3.594,   9.344,  -2.719,   4.188,   6.094,\n",
              "         8.688,  -5.469,  -3.688,  -7.188,   4.219,   4.969,  -8.906,\n",
              "         9.938,   5.562,   2.281,  -6.844,  -4.281,   9.531,   5.219,\n",
              "        -2.688,   9.156,   3.938,   5.25 ,   8.5  ,  -9.812,   3.031,\n",
              "         8.156,   7.562,   3.875,   0.094,   1.438,   0.844,   3.312,\n",
              "        -3.219,   2.375,   3.281,   9.75 ,   5.062,   5.625,  10.   ,\n",
              "        -9.844,   2.062,   4.469,  -6.938,   7.156,  -3.781,   7.875,\n",
              "        -4.938,  -2.219,   5.719,   0.375,   2.562,   2.312,  -1.   ,\n",
              "        -8.188,   2.625,   1.906,  -0.156,  -0.938,   9.062,   7.594,\n",
              "        -1.344,  -3.562,  -0.594,   4.312,   6.594,   0.906,  -2.25 ,\n",
              "         9.688,  -9.719,  -0.062,  -3.094,  -3.031,  -5.594,   8.219,\n",
              "        -4.219,   6.062,  -0.688,  -4.625,   2.031,  -9.156,  -8.938,\n",
              "         7.844,   7.125,   2.875,  -0.75 ,  -7.094,  -7.5  ,  -5.562,\n",
              "         0.938,  -7.25 ,  -2.5  ,  -5.031,   8.969,  -1.125,   9.438,\n",
              "         1.594,   0.719,  -8.688,   4.938,   6.344,   3.   ,   3.594,\n",
              "         3.062,  -1.844,  -0.438,   8.812,   6.781,  -3.531,  -1.219,\n",
              "         5.875,   1.062,   8.656,   2.531,  -7.969,  -9.562,  -3.625,\n",
              "        -5.906,   0.062,   1.844,   2.688,  -2.938,   1.219,   7.656,\n",
              "        -8.375,  -8.062,   4.625,   6.562,   8.   ,  -6.125,  -2.406,\n",
              "         9.969,   2.656,   8.719,   7.344,  -4.344,  -1.812,   1.281,\n",
              "        -0.188,   9.25 ,  -6.594,   4.594,   3.219,   7.812,  -7.281,\n",
              "        -2.781,  -1.688,  -6.5  ,  -8.812,   2.844,  -3.438,  -2.375,\n",
              "        -9.5  ,   4.719,   3.125,  -4.875,   3.906,  -8.562,   6.969,\n",
              "         9.625,   8.25 ,  -9.406,  -0.219,  -2.156,   7.5  ,  -6.25 ,\n",
              "        -5.188,  -2.344,   9.844,  -3.875,   5.312,  -5.312,  -4.5  ,\n",
              "        -5.531,   2.406,   5.469,   8.344,  -9.094,  -3.906,   2.469,\n",
              "         3.5  ,  -8.5  ,   7.188,   0.406,  -2.   ,  -6.969,  -3.656,\n",
              "        -4.844,   5.375,   2.344,  -3.844,   7.031,  -5.656,  -3.75 ,\n",
              "        -1.031,   6.156,   4.562,   2.219,   1.531,  -4.469,  -0.406,\n",
              "         1.688,   5.938,  -5.844,   6.75 ,   1.156,   7.438,  -4.062,\n",
              "        -9.375,   3.438,  -6.375,  -8.125,  -3.938,  -2.812,  -2.094,\n",
              "         1.781,  -6.781,   4.844,  -6.906,   9.906,   1.625,  -7.594,\n",
              "         1.188,   3.094,  -8.031,   7.406,   2.094,   9.719,  -1.625,\n",
              "        -0.781,  -1.094,   5.906,   0.031,  -0.656,   4.781,   4.281,\n",
              "         3.406,   6.469,  -6.469,  -5.   ,   5.5  ,   3.531,   9.656,\n",
              "        -8.594,   7.062,   8.844,   9.812,   4.531,   9.188,  -8.344,\n",
              "         0.531,   8.469,  -2.438,  -1.25 ,   3.719,   5.688,   1.938,\n",
              "        -0.25 ,   6.656,   9.125,  -8.281,  -2.031,  -1.188,  -4.031,\n",
              "        -9.781,  -0.094,   8.188,   6.531,   8.938,   2.   ,  -0.281,\n",
              "        -3.281,   3.844,  -1.5  ,   0.   ,   5.406,   9.219,   6.625,\n",
              "        -4.375,   0.812,   2.188,   5.75 ,  -9.031,  -4.094,  -5.062,\n",
              "         2.594,   0.75 ,  -4.562,  -1.938,   0.125,   6.438,   3.656,\n",
              "        -4.438,   3.781,   2.438,   6.375,  -1.469,  -2.844,  -4.531,\n",
              "         0.344,  -9.219,   7.625,   4.125,   4.094,   6.312,   5.   ,\n",
              "         1.562,   5.281,  -3.469,  -3.812,   5.531,   9.312,  -6.312,\n",
              "         9.594,   3.969,   2.5  ,  -4.25 ,  -1.75 ,   7.688,   7.219,\n",
              "         4.75 ,   5.812,   9.031,  -5.969,   8.625,  -9.062,  -1.312,\n",
              "         8.062,  -0.969,   1.375,   7.312,  -5.688,  -0.875,  -8.656,\n",
              "        -8.094,   3.812,   5.344,  -4.156,   7.906,   8.406,  -9.688,\n",
              "        -0.812,   0.188,  -9.281,  -1.375,   9.875,   4.156,  -3.5  ,\n",
              "        -3.156,  -7.719,   1.812,  -9.25 ,  -2.594,  -1.062,   6.844,\n",
              "        -5.812,  -0.625,   8.312,  -1.281,  -0.562,  -1.656,  -6.281,\n",
              "         1.469,   7.781,  -9.875,   1.5  ,  -1.531,  -8.219,   8.125,\n",
              "        -1.719,   0.469,  -5.219,   0.656,   4.   ,  -7.844,   1.031,\n",
              "         4.875,  -1.875,  -5.406,   6.281,  -5.875,   0.781,  -6.812,\n",
              "        -6.625,  -6.219,   4.812,  -3.344,   1.969,  -7.656,   0.219,\n",
              "        -9.969,   5.969,  -9.938,  -6.719,   5.844,  -6.   ,   7.25 ,\n",
              "         7.969,   0.5  ,   9.   ,   3.188,   7.531,  -5.281,  -8.75 ,\n",
              "        -8.406,   4.906,  -7.219,   1.344,   0.438,   6.188,   1.125,\n",
              "         6.906,  -4.75 ,  -3.25 ,  -7.031,  -6.156,  -3.406,   2.25 ,\n",
              "        -4.656,   6.5  ,  -5.094,   4.25 ,  -2.562,   7.281,  -6.75 ,\n",
              "         1.094,   0.281,  -3.375,  -1.438,  -2.062,  -5.438,  -0.719,\n",
              "        -8.625,  -9.469,  -7.938,  -4.   ,  -0.906,  -9.188,  -5.156,\n",
              "        -2.531,  -2.969,  -5.938,  -4.812,   9.094,   3.344,   0.625,\n",
              "        -6.531,  -7.062,  -2.875,   8.438,  -6.406,  -7.906,  -9.75 ,\n",
              "         8.906,  -7.688,   1.75 ,  -7.   ,   9.562,  -0.375,  -6.656,\n",
              "        -8.969,  -7.344,  -2.312,   7.094,   5.156,  -4.312,  -7.781,\n",
              "        -9.531,  -8.438,   6.   ,  -1.156,   7.719,  -7.625,   9.469,\n",
              "        -8.531,  -6.031,  -3.   ,  -3.125,  -9.312,  -2.656,  -6.094,\n",
              "         7.938,  -2.125,  -7.312,   8.094,  -7.156,  -0.469,  -4.719,\n",
              "        -8.781,  -0.844,  -9.125,  -7.438,  -5.25 ,  -4.781,  -1.594,\n",
              "        -4.594,  -0.125,  -3.719,  -4.688,  -3.312,   5.781,  -5.375,\n",
              "        -8.875,  -9.906,   2.812,  -4.969,  -5.719,  -6.562,   0.594,\n",
              "         4.344,  -5.781,  -1.562,  -4.406,  -0.312,  -7.875,  -5.125,\n",
              "        -9.   ,  -8.156, -10.   ,  -7.375,  -5.625,  -8.719,  -9.656,\n",
              "        -2.469,  -8.844,  -6.688,  -9.594,  -4.188,  -7.125,  -7.531,\n",
              "        -7.562,  -6.188,  -8.312,  -6.344,  -7.812,  -6.062,  -8.469,\n",
              "        -9.438,  -2.625,  -9.344,  -7.75 ])"
            ]
          },
          "metadata": {},
          "execution_count": 15
        }
      ]
    },
    {
      "cell_type": "code",
      "source": [
        "data['Rating'].nunique()"
      ],
      "metadata": {
        "colab": {
          "base_uri": "https://localhost:8080/"
        },
        "id": "tyJnP5czvtOR",
        "outputId": "e35de31e-4946-4b22-b270-ddded8ab1866"
      },
      "execution_count": 16,
      "outputs": [
        {
          "output_type": "execute_result",
          "data": {
            "text/plain": [
              "641"
            ]
          },
          "metadata": {},
          "execution_count": 16
        }
      ]
    },
    {
      "cell_type": "code",
      "source": [
        "data['Rating'].value_counts()"
      ],
      "metadata": {
        "colab": {
          "base_uri": "https://localhost:8080/"
        },
        "id": "_oiO6NXzwTty",
        "outputId": "02701d68-0546-40bd-a5c9-d3c0f1783805"
      },
      "execution_count": 17,
      "outputs": [
        {
          "output_type": "execute_result",
          "data": {
            "text/plain": [
              " 9.938    4692\n",
              " 9.969    4584\n",
              " 9.906    4247\n",
              " 9.875    3808\n",
              " 9.844    3466\n",
              "          ... \n",
              "-7.625     575\n",
              "-7.656     562\n",
              "-7.688     541\n",
              "-9.969     453\n",
              "-9.938     305\n",
              "Name: Rating, Length: 641, dtype: int64"
            ]
          },
          "metadata": {},
          "execution_count": 17
        }
      ]
    },
    {
      "cell_type": "code",
      "source": [
        "data['id'].nunique()"
      ],
      "metadata": {
        "colab": {
          "base_uri": "https://localhost:8080/"
        },
        "id": "2KJNivyzvyny",
        "outputId": "5d0464ba-e456-4a3c-c0a1-73cda575817d"
      },
      "execution_count": 18,
      "outputs": [
        {
          "output_type": "execute_result",
          "data": {
            "text/plain": [
              "1092059"
            ]
          },
          "metadata": {},
          "execution_count": 18
        }
      ]
    },
    {
      "cell_type": "code",
      "source": [
        "#data = data[data['Rating'] < 0]"
      ],
      "metadata": {
        "id": "gmPVLg0P76vX"
      },
      "execution_count": 10,
      "outputs": []
    },
    {
      "cell_type": "code",
      "source": [
        "data['Rating'].nunique()"
      ],
      "metadata": {
        "colab": {
          "base_uri": "https://localhost:8080/"
        },
        "id": "UaHIV5GO8III",
        "outputId": "a545fdf4-01bd-4edf-fcd6-354d2cdf5a9d"
      },
      "execution_count": 19,
      "outputs": [
        {
          "output_type": "execute_result",
          "data": {
            "text/plain": [
              "641"
            ]
          },
          "metadata": {},
          "execution_count": 19
        }
      ]
    },
    {
      "cell_type": "code",
      "source": [
        "data.shape"
      ],
      "metadata": {
        "colab": {
          "base_uri": "https://localhost:8080/"
        },
        "id": "okfMmXm08I3f",
        "outputId": "47bc1f23-23af-4317-f77f-41b364fc8b6c"
      },
      "execution_count": 20,
      "outputs": [
        {
          "output_type": "execute_result",
          "data": {
            "text/plain": [
              "(1092059, 4)"
            ]
          },
          "metadata": {},
          "execution_count": 20
        }
      ]
    },
    {
      "cell_type": "code",
      "source": [
        "data.info()"
      ],
      "metadata": {
        "colab": {
          "base_uri": "https://localhost:8080/"
        },
        "id": "Isa2reEHyRfT",
        "outputId": "cfe2a9af-990a-44d6-b8c6-ef3d45f06a8e"
      },
      "execution_count": 21,
      "outputs": [
        {
          "output_type": "stream",
          "name": "stdout",
          "text": [
            "<class 'pandas.core.frame.DataFrame'>\n",
            "RangeIndex: 1092059 entries, 0 to 1092058\n",
            "Data columns (total 4 columns):\n",
            " #   Column   Non-Null Count    Dtype  \n",
            "---  ------   --------------    -----  \n",
            " 0   id       1092059 non-null  object \n",
            " 1   user_id  1092059 non-null  int64  \n",
            " 2   joke_id  1092059 non-null  int64  \n",
            " 3   Rating   1092059 non-null  float64\n",
            "dtypes: float64(1), int64(2), object(1)\n",
            "memory usage: 33.3+ MB\n"
          ]
        }
      ]
    },
    {
      "cell_type": "code",
      "source": [
        "rating=data.drop('id',axis=1)"
      ],
      "metadata": {
        "id": "dJ2aeM4vzzfk"
      },
      "execution_count": 22,
      "outputs": []
    },
    {
      "cell_type": "code",
      "source": [
        "data['Rating'].value_counts()"
      ],
      "metadata": {
        "colab": {
          "base_uri": "https://localhost:8080/"
        },
        "id": "jiXYfydW8YCN",
        "outputId": "7425dd29-d402-4487-8dfe-e9df6dfc1c38"
      },
      "execution_count": 23,
      "outputs": [
        {
          "output_type": "execute_result",
          "data": {
            "text/plain": [
              " 9.938    4692\n",
              " 9.969    4584\n",
              " 9.906    4247\n",
              " 9.875    3808\n",
              " 9.844    3466\n",
              "          ... \n",
              "-7.625     575\n",
              "-7.656     562\n",
              "-7.688     541\n",
              "-9.969     453\n",
              "-9.938     305\n",
              "Name: Rating, Length: 641, dtype: int64"
            ]
          },
          "metadata": {},
          "execution_count": 23
        }
      ]
    },
    {
      "cell_type": "code",
      "source": [
        "data['Rating'].min()"
      ],
      "metadata": {
        "colab": {
          "base_uri": "https://localhost:8080/"
        },
        "id": "ToHi2D8EDHZm",
        "outputId": "8d27032a-4231-4b36-b864-65f9f3ccab2a"
      },
      "execution_count": 24,
      "outputs": [
        {
          "output_type": "execute_result",
          "data": {
            "text/plain": [
              "-10.0"
            ]
          },
          "metadata": {},
          "execution_count": 24
        }
      ]
    },
    {
      "cell_type": "code",
      "source": [
        "data['Rating'].max()"
      ],
      "metadata": {
        "colab": {
          "base_uri": "https://localhost:8080/"
        },
        "id": "O9H3C-gADJ4E",
        "outputId": "b9f9e055-d5d7-47e3-8129-351f061a89d4"
      },
      "execution_count": 25,
      "outputs": [
        {
          "output_type": "execute_result",
          "data": {
            "text/plain": [
              "10.0"
            ]
          },
          "metadata": {},
          "execution_count": 25
        }
      ]
    },
    {
      "cell_type": "code",
      "source": [
        "rating.info()"
      ],
      "metadata": {
        "colab": {
          "base_uri": "https://localhost:8080/"
        },
        "id": "s0L7rEU0zjzU",
        "outputId": "724d3f43-6859-419b-dfd2-dede632279bb"
      },
      "execution_count": 26,
      "outputs": [
        {
          "output_type": "stream",
          "name": "stdout",
          "text": [
            "<class 'pandas.core.frame.DataFrame'>\n",
            "RangeIndex: 1092059 entries, 0 to 1092058\n",
            "Data columns (total 3 columns):\n",
            " #   Column   Non-Null Count    Dtype  \n",
            "---  ------   --------------    -----  \n",
            " 0   user_id  1092059 non-null  int64  \n",
            " 1   joke_id  1092059 non-null  int64  \n",
            " 2   Rating   1092059 non-null  float64\n",
            "dtypes: float64(1), int64(2)\n",
            "memory usage: 25.0 MB\n"
          ]
        }
      ]
    },
    {
      "cell_type": "code",
      "source": [
        "# Define a Reader object\n",
        "reader = Reader(rating_scale=(-10,10))"
      ],
      "metadata": {
        "id": "W2zLg-jW0nvk"
      },
      "execution_count": 29,
      "outputs": []
    },
    {
      "cell_type": "code",
      "source": [
        "# Load the data into the Surprise Dataset format\n",
        "data = Dataset.load_from_df(rating[['user_id', 'joke_id', 'Rating']], reader)"
      ],
      "metadata": {
        "id": "jskGji_W1Cl_"
      },
      "execution_count": 30,
      "outputs": []
    },
    {
      "cell_type": "code",
      "source": [
        "data"
      ],
      "metadata": {
        "colab": {
          "base_uri": "https://localhost:8080/"
        },
        "id": "U8FVZ1sx4Cl-",
        "outputId": "19972a99-2d1d-4e2f-dd9b-d39a0527ba5b"
      },
      "execution_count": 31,
      "outputs": [
        {
          "output_type": "execute_result",
          "data": {
            "text/plain": [
              "<surprise.dataset.DatasetAutoFolds at 0x7f0bf7fa74c0>"
            ]
          },
          "metadata": {},
          "execution_count": 31
        }
      ]
    },
    {
      "cell_type": "code",
      "source": [
        "from surprise import KNNBasic , SVD"
      ],
      "metadata": {
        "id": "7QIf37pq1LFu"
      },
      "execution_count": 32,
      "outputs": []
    },
    {
      "cell_type": "code",
      "source": [
        "algo=KNNBasic()"
      ],
      "metadata": {
        "id": "pk05AAcA1aOP"
      },
      "execution_count": 33,
      "outputs": []
    },
    {
      "cell_type": "code",
      "source": [
        "from surprise.model_selection import cross_validate"
      ],
      "metadata": {
        "id": "hHfSNCY31jEy"
      },
      "execution_count": 22,
      "outputs": []
    },
    {
      "cell_type": "code",
      "source": [
        "cross_validate(algo,data,measures=['RMSE'],cv=5)"
      ],
      "metadata": {
        "id": "JZyMYOqE1xsK"
      },
      "execution_count": null,
      "outputs": []
    },
    {
      "cell_type": "code",
      "source": [
        "algo1=SVD()"
      ],
      "metadata": {
        "id": "8yL8auZj4TMv"
      },
      "execution_count": null,
      "outputs": []
    },
    {
      "cell_type": "code",
      "source": [
        "cross_validate(algo,data,measures=['RMSE'],cv=5,verbose=False)"
      ],
      "metadata": {
        "id": "EEtMUnb45Q0S"
      },
      "execution_count": null,
      "outputs": []
    },
    {
      "cell_type": "code",
      "source": [
        "cross_validate(algo1,data,measures=['RMSE'],cv=5)"
      ],
      "metadata": {
        "id": "5WQdKxKN4fTa"
      },
      "execution_count": null,
      "outputs": []
    },
    {
      "cell_type": "code",
      "source": [
        "user_id=16144\n",
        "joke_id=109"
      ],
      "metadata": {
        "id": "4KOClueA6f_l"
      },
      "execution_count": null,
      "outputs": []
    },
    {
      "cell_type": "code",
      "source": [
        "prediction=algo1.predict(user_id,joke_id)"
      ],
      "metadata": {
        "id": "xkcmyUfx61AN"
      },
      "execution_count": null,
      "outputs": []
    },
    {
      "cell_type": "code",
      "source": [
        "prediction.est"
      ],
      "metadata": {
        "id": "4hxQf4Pa7CEr"
      },
      "execution_count": null,
      "outputs": []
    },
    {
      "cell_type": "code",
      "source": [
        "# Use user-based collaborative filtering with the KNNBasic algorithm\n",
        "sim_options = {'name': 'pearson_baseline', 'user_based': True}"
      ],
      "metadata": {
        "id": "Me9175vV12PP"
      },
      "execution_count": 34,
      "outputs": []
    },
    {
      "cell_type": "code",
      "source": [
        "model = KNNBasic(sim_options=sim_options)"
      ],
      "metadata": {
        "id": "BLzNqXyq2GsW"
      },
      "execution_count": 35,
      "outputs": []
    },
    {
      "cell_type": "code",
      "source": [
        "from surprise.model_selection import train_test_split"
      ],
      "metadata": {
        "id": "YHSP6CbY_RGH"
      },
      "execution_count": 36,
      "outputs": []
    },
    {
      "cell_type": "code",
      "source": [
        "trainset, testset = train_test_split(data, test_size=0.2, random_state=42)"
      ],
      "metadata": {
        "id": "Rv_oELuX_FCp"
      },
      "execution_count": 37,
      "outputs": []
    },
    {
      "cell_type": "code",
      "source": [
        "model.fit(trainset)"
      ],
      "metadata": {
        "id": "Olp-2wH82euP",
        "colab": {
          "base_uri": "https://localhost:8080/"
        },
        "outputId": "86418c2c-01ad-477d-c34c-6e023a92c000"
      },
      "execution_count": null,
      "outputs": [
        {
          "output_type": "stream",
          "name": "stdout",
          "text": [
            "Estimating biases using als...\n"
          ]
        }
      ]
    },
    {
      "cell_type": "code",
      "source": [
        "# Predict ratings for the test set\n",
        "predictions = model.test(testset)"
      ],
      "metadata": {
        "id": "SDPLyiL52q4-"
      },
      "execution_count": null,
      "outputs": []
    },
    {
      "cell_type": "code",
      "source": [
        "# Evaluate the model\n",
        "accuracy.rmse(predictions)"
      ],
      "metadata": {
        "id": "b_xjSmVz5CQC"
      },
      "execution_count": null,
      "outputs": []
    },
    {
      "cell_type": "code",
      "source": [],
      "metadata": {
        "id": "Z12PTmVVCOCM"
      },
      "execution_count": null,
      "outputs": []
    }
  ]
}